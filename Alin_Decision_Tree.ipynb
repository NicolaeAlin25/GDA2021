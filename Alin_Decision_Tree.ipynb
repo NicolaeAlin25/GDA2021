{
  "nbformat": 4,
  "nbformat_minor": 0,
  "metadata": {
    "colab": {
      "name": "Alin Decision Tree",
      "provenance": [],
      "collapsed_sections": [],
      "include_colab_link": true
    },
    "kernelspec": {
      "name": "python3",
      "display_name": "Python 3"
    }
  },
  "cells": [
    {
      "cell_type": "markdown",
      "metadata": {
        "id": "view-in-github",
        "colab_type": "text"
      },
      "source": [
        "<a href=\"https://colab.research.google.com/github/NicolaeAlin25/GDA2021/blob/main/Alin_Decision_Tree.ipynb\" target=\"_parent\"><img src=\"https://colab.research.google.com/assets/colab-badge.svg\" alt=\"Open In Colab\"/></a>"
      ]
    },
    {
      "cell_type": "markdown",
      "metadata": {
        "id": "JnwN3axz4pE4"
      },
      "source": [
        "# Decision Trees\n",
        "Within this challenge, we're going to use decision trees in both a classification sense and a regression sense and visualize each of these representations. In this challenge, we will be using the `mpg` dataset."
      ]
    },
    {
      "cell_type": "markdown",
      "metadata": {
        "id": "K7nAqbRN-FFe"
      },
      "source": [
        "## Regression Trees"
      ]
    },
    {
      "cell_type": "code",
      "metadata": {
        "id": "fv9xluj24jzc"
      },
      "source": [
        "# Load in the necessary libraries and the dataset\n",
        "import pandas as pd\n",
        "import numpy as np\n",
        "import seaborn as sns\n",
        "from sklearn.model_selection import train_test_split\n",
        "from sklearn import tree\n",
        "from sklearn.metrics import accuracy_score, r2_score\n",
        "import matplotlib.pyplot as plt\n",
        "\n",
        "data = sns.load_dataset(\"mpg\")\n",
        "\n",
        "# Drop the rows with missing values\n",
        "# Drop the \"name\" column\n",
        "# Transform the \"origin\" column to represent the following:\n",
        "#   USA = 0, Japan = 1, Europe = 2\n",
        "\n",
        "# INSERT CODE HERE"
      ],
      "execution_count": null,
      "outputs": []
    },
    {
      "cell_type": "code",
      "metadata": {
        "colab": {
          "base_uri": "https://localhost:8080/"
        },
        "id": "yfttYHFGYhBi",
        "outputId": "fe949a28-2177-4156-b150-f1cb143ddd12"
      },
      "source": [
        "data.shape"
      ],
      "execution_count": null,
      "outputs": [
        {
          "output_type": "execute_result",
          "data": {
            "text/plain": [
              "(398, 9)"
            ]
          },
          "metadata": {
            "tags": []
          },
          "execution_count": 54
        }
      ]
    },
    {
      "cell_type": "code",
      "metadata": {
        "id": "DjDthNsYX9J4"
      },
      "source": [
        "data.head()\n",
        "#data.isnull().sum()\n",
        "#data.isna().sum()\n",
        "# drop rows with missing values\n",
        "data2 = data.drop(['name'], axis= 1)\n",
        "df = data2.dropna()\n",
        "df['origin'] = df['origin'].factorize()[0]\n",
        "#df['origin'] = df['origin'].replace({'usa': 0, 'japan': 1, 'europe': 2})"
      ],
      "execution_count": null,
      "outputs": []
    },
    {
      "cell_type": "code",
      "metadata": {
        "colab": {
          "base_uri": "https://localhost:8080/",
          "height": 402
        },
        "id": "Nl9kxm1hZYlo",
        "outputId": "fd50be6f-e2db-4c56-82ea-cd79229a903b"
      },
      "source": [
        "df"
      ],
      "execution_count": null,
      "outputs": [
        {
          "output_type": "execute_result",
          "data": {
            "text/html": [
              "<div>\n",
              "<style scoped>\n",
              "    .dataframe tbody tr th:only-of-type {\n",
              "        vertical-align: middle;\n",
              "    }\n",
              "\n",
              "    .dataframe tbody tr th {\n",
              "        vertical-align: top;\n",
              "    }\n",
              "\n",
              "    .dataframe thead th {\n",
              "        text-align: right;\n",
              "    }\n",
              "</style>\n",
              "<table border=\"1\" class=\"dataframe\">\n",
              "  <thead>\n",
              "    <tr style=\"text-align: right;\">\n",
              "      <th></th>\n",
              "      <th>mpg</th>\n",
              "      <th>cylinders</th>\n",
              "      <th>displacement</th>\n",
              "      <th>horsepower</th>\n",
              "      <th>weight</th>\n",
              "      <th>acceleration</th>\n",
              "      <th>model_year</th>\n",
              "      <th>origin</th>\n",
              "    </tr>\n",
              "  </thead>\n",
              "  <tbody>\n",
              "    <tr>\n",
              "      <th>0</th>\n",
              "      <td>18.0</td>\n",
              "      <td>8</td>\n",
              "      <td>307.0</td>\n",
              "      <td>130.0</td>\n",
              "      <td>3504</td>\n",
              "      <td>12.0</td>\n",
              "      <td>70</td>\n",
              "      <td>0</td>\n",
              "    </tr>\n",
              "    <tr>\n",
              "      <th>1</th>\n",
              "      <td>15.0</td>\n",
              "      <td>8</td>\n",
              "      <td>350.0</td>\n",
              "      <td>165.0</td>\n",
              "      <td>3693</td>\n",
              "      <td>11.5</td>\n",
              "      <td>70</td>\n",
              "      <td>0</td>\n",
              "    </tr>\n",
              "    <tr>\n",
              "      <th>2</th>\n",
              "      <td>18.0</td>\n",
              "      <td>8</td>\n",
              "      <td>318.0</td>\n",
              "      <td>150.0</td>\n",
              "      <td>3436</td>\n",
              "      <td>11.0</td>\n",
              "      <td>70</td>\n",
              "      <td>0</td>\n",
              "    </tr>\n",
              "    <tr>\n",
              "      <th>3</th>\n",
              "      <td>16.0</td>\n",
              "      <td>8</td>\n",
              "      <td>304.0</td>\n",
              "      <td>150.0</td>\n",
              "      <td>3433</td>\n",
              "      <td>12.0</td>\n",
              "      <td>70</td>\n",
              "      <td>0</td>\n",
              "    </tr>\n",
              "    <tr>\n",
              "      <th>4</th>\n",
              "      <td>17.0</td>\n",
              "      <td>8</td>\n",
              "      <td>302.0</td>\n",
              "      <td>140.0</td>\n",
              "      <td>3449</td>\n",
              "      <td>10.5</td>\n",
              "      <td>70</td>\n",
              "      <td>0</td>\n",
              "    </tr>\n",
              "    <tr>\n",
              "      <th>...</th>\n",
              "      <td>...</td>\n",
              "      <td>...</td>\n",
              "      <td>...</td>\n",
              "      <td>...</td>\n",
              "      <td>...</td>\n",
              "      <td>...</td>\n",
              "      <td>...</td>\n",
              "      <td>...</td>\n",
              "    </tr>\n",
              "    <tr>\n",
              "      <th>393</th>\n",
              "      <td>27.0</td>\n",
              "      <td>4</td>\n",
              "      <td>140.0</td>\n",
              "      <td>86.0</td>\n",
              "      <td>2790</td>\n",
              "      <td>15.6</td>\n",
              "      <td>82</td>\n",
              "      <td>0</td>\n",
              "    </tr>\n",
              "    <tr>\n",
              "      <th>394</th>\n",
              "      <td>44.0</td>\n",
              "      <td>4</td>\n",
              "      <td>97.0</td>\n",
              "      <td>52.0</td>\n",
              "      <td>2130</td>\n",
              "      <td>24.6</td>\n",
              "      <td>82</td>\n",
              "      <td>2</td>\n",
              "    </tr>\n",
              "    <tr>\n",
              "      <th>395</th>\n",
              "      <td>32.0</td>\n",
              "      <td>4</td>\n",
              "      <td>135.0</td>\n",
              "      <td>84.0</td>\n",
              "      <td>2295</td>\n",
              "      <td>11.6</td>\n",
              "      <td>82</td>\n",
              "      <td>0</td>\n",
              "    </tr>\n",
              "    <tr>\n",
              "      <th>396</th>\n",
              "      <td>28.0</td>\n",
              "      <td>4</td>\n",
              "      <td>120.0</td>\n",
              "      <td>79.0</td>\n",
              "      <td>2625</td>\n",
              "      <td>18.6</td>\n",
              "      <td>82</td>\n",
              "      <td>0</td>\n",
              "    </tr>\n",
              "    <tr>\n",
              "      <th>397</th>\n",
              "      <td>31.0</td>\n",
              "      <td>4</td>\n",
              "      <td>119.0</td>\n",
              "      <td>82.0</td>\n",
              "      <td>2720</td>\n",
              "      <td>19.4</td>\n",
              "      <td>82</td>\n",
              "      <td>0</td>\n",
              "    </tr>\n",
              "  </tbody>\n",
              "</table>\n",
              "<p>392 rows × 8 columns</p>\n",
              "</div>"
            ],
            "text/plain": [
              "      mpg  cylinders  displacement  ...  acceleration  model_year  origin\n",
              "0    18.0          8         307.0  ...          12.0          70       0\n",
              "1    15.0          8         350.0  ...          11.5          70       0\n",
              "2    18.0          8         318.0  ...          11.0          70       0\n",
              "3    16.0          8         304.0  ...          12.0          70       0\n",
              "4    17.0          8         302.0  ...          10.5          70       0\n",
              "..    ...        ...           ...  ...           ...         ...     ...\n",
              "393  27.0          4         140.0  ...          15.6          82       0\n",
              "394  44.0          4          97.0  ...          24.6          82       2\n",
              "395  32.0          4         135.0  ...          11.6          82       0\n",
              "396  28.0          4         120.0  ...          18.6          82       0\n",
              "397  31.0          4         119.0  ...          19.4          82       0\n",
              "\n",
              "[392 rows x 8 columns]"
            ]
          },
          "metadata": {
            "tags": []
          },
          "execution_count": 125
        }
      ]
    },
    {
      "cell_type": "code",
      "metadata": {
        "colab": {
          "base_uri": "https://localhost:8080/"
        },
        "id": "2CO2_SQFeU_8",
        "outputId": "7c259937-2133-4719-cac8-d561953d248d"
      },
      "source": [
        "df['origin'].value_counts()"
      ],
      "execution_count": null,
      "outputs": [
        {
          "output_type": "execute_result",
          "data": {
            "text/plain": [
              "0    245\n",
              "1     79\n",
              "2     68\n",
              "Name: origin, dtype: int64"
            ]
          },
          "metadata": {
            "tags": []
          },
          "execution_count": 126
        }
      ]
    },
    {
      "cell_type": "code",
      "metadata": {
        "id": "rZ43TkkL4mqv",
        "colab": {
          "base_uri": "https://localhost:8080/"
        },
        "outputId": "edcf4e48-8839-4ec8-d2df-8017333a7836"
      },
      "source": [
        "# Split into train and test splits using the \"mpg\" column as target, random state of 42 and a test size of 20%\n",
        "# INSERT CODE HERE\n",
        "\n",
        "# calculate mean of column \"mpg\"\n",
        "#mean_mpg = df['mpg'].mean()\n",
        "#print(mean_mpg)\n",
        "\n",
        "#median_mpg = df['mpg'].median()\n",
        "#print(median_mpg)"
      ],
      "execution_count": null,
      "outputs": [
        {
          "output_type": "stream",
          "text": [
            "23.44591836734694\n",
            "22.75\n"
          ],
          "name": "stdout"
        }
      ]
    },
    {
      "cell_type": "code",
      "metadata": {
        "id": "Aar9f5ixhHYu"
      },
      "source": [
        "# calculate X & Y\n",
        "X = df.drop(['mpg'], axis =1)\n",
        "\n",
        "# convert y as values 0 or 1\n",
        "#y= df['mpg'].apply(lambda x: 0 if x <= 23 else 1)\n",
        "#y.value_counts()\n",
        "\n",
        "# i could say i have a balanced data"
      ],
      "execution_count": null,
      "outputs": []
    },
    {
      "cell_type": "code",
      "metadata": {
        "id": "aXOoL2qeE-4G"
      },
      "source": [
        "y = df['mpg']"
      ],
      "execution_count": null,
      "outputs": []
    },
    {
      "cell_type": "code",
      "metadata": {
        "id": "MZ65akEDkBcO"
      },
      "source": [
        "# Split data rand 42, test size 20%\n",
        "\n",
        "X_train, X_test, y_train, y_test = train_test_split(X, y, test_size=0.2, random_state=42)"
      ],
      "execution_count": null,
      "outputs": []
    },
    {
      "cell_type": "code",
      "metadata": {
        "id": "OuXrepbF5uca",
        "colab": {
          "base_uri": "https://localhost:8080/"
        },
        "outputId": "ab458e54-5f6a-41bc-df29-397bf8ed2909"
      },
      "source": [
        "# Fit a decision tree\n",
        "# INSERT CODE HERE\n",
        "from sklearn.tree import DecisionTreeRegressor\n",
        "modelDTR = DecisionTreeRegressor()\n",
        "modelDTR.fit(X_train, y_train)\n"
      ],
      "execution_count": null,
      "outputs": [
        {
          "output_type": "execute_result",
          "data": {
            "text/plain": [
              "DecisionTreeRegressor(ccp_alpha=0.0, criterion='mse', max_depth=None,\n",
              "                      max_features=None, max_leaf_nodes=None,\n",
              "                      min_impurity_decrease=0.0, min_impurity_split=None,\n",
              "                      min_samples_leaf=1, min_samples_split=2,\n",
              "                      min_weight_fraction_leaf=0.0, presort='deprecated',\n",
              "                      random_state=None, splitter='best')"
            ]
          },
          "metadata": {
            "tags": []
          },
          "execution_count": 7
        }
      ]
    },
    {
      "cell_type": "code",
      "metadata": {
        "id": "9iDodpFq6TLD",
        "colab": {
          "base_uri": "https://localhost:8080/"
        },
        "outputId": "c720ff48-8a87-413e-86c5-7293618ab40e"
      },
      "source": [
        "# Predict on the xtest set\n",
        "# INSERT CODE HERE\n",
        "y_predict = modelDTR.predict(X_test)\n",
        "y_predict"
      ],
      "execution_count": null,
      "outputs": [
        {
          "output_type": "execute_result",
          "data": {
            "text/plain": [
              "array([23. , 19. , 37.2, 33. , 27. , 29. , 12. , 31.5, 18. , 31. , 15. ,\n",
              "       20.3, 16. , 29. , 17. , 27. , 18. , 32.4, 36.4, 37. , 23. , 34. ,\n",
              "       35.1, 18. , 31. , 28. , 19. , 18. , 27. , 25. , 16. , 20.2, 23.9,\n",
              "       28. , 14. , 31. ,  9. , 23. , 14. , 12. , 14. , 28. , 34. , 26. ,\n",
              "       16. , 11. , 19. , 44.3, 25. , 33. , 14. , 21. , 21. , 37. , 38. ,\n",
              "       16. , 19. , 19. , 24. , 23. , 11. , 22. , 28.8, 23.8, 23.9, 26. ,\n",
              "       24.5, 33. , 23.9, 14. , 25. , 13. , 22. , 19. , 20.8, 24. , 13. ,\n",
              "       18. , 24. ])"
            ]
          },
          "metadata": {
            "tags": []
          },
          "execution_count": 8
        }
      ]
    },
    {
      "cell_type": "code",
      "metadata": {
        "id": "b_tMkB6d6kxo",
        "colab": {
          "base_uri": "https://localhost:8080/"
        },
        "outputId": "88010086-9116-4c47-bfd5-9995c35a30a0"
      },
      "source": [
        "# Print out the R2 score.\n",
        "# INSERT CODE HERE\n",
        "# print accuracy score\n",
        "print(\"accuracy score on train set:\",modelDTR.score(X_train, y_train))\n",
        "print(\"accuracy score on test set:\",modelDTR.score(X_test, y_test))"
      ],
      "execution_count": null,
      "outputs": [
        {
          "output_type": "stream",
          "text": [
            "accuracy score on train set: 1.0\n",
            "accuracy score on test set: 0.7521505644364419\n"
          ],
          "name": "stdout"
        }
      ]
    },
    {
      "cell_type": "code",
      "metadata": {
        "colab": {
          "base_uri": "https://localhost:8080/"
        },
        "id": "ebAqDmVfo7YA",
        "outputId": "3c59b7b6-d324-4f74-ddce-04aa302bea14"
      },
      "source": [
        "# Print out the R2 score\n",
        "r2_score(y_test, y_predict)"
      ],
      "execution_count": null,
      "outputs": [
        {
          "output_type": "execute_result",
          "data": {
            "text/plain": [
              "0.7521505644364419"
            ]
          },
          "metadata": {
            "tags": []
          },
          "execution_count": 10
        }
      ]
    },
    {
      "cell_type": "markdown",
      "metadata": {
        "id": "iVzROtLkoLqM"
      },
      "source": [
        "**OVERFITTING !!**  to avoid it, maybe i should change the max_depth inside the model and try to see which is the best solution"
      ]
    },
    {
      "cell_type": "code",
      "metadata": {
        "id": "4BEgnReTNC0a",
        "colab": {
          "base_uri": "https://localhost:8080/"
        },
        "outputId": "e09d298c-320c-4d56-e67e-cce27fff0b43"
      },
      "source": [
        "# Print each feature with importance %\n",
        "# INSERT CODE HERE\n",
        "modelDTR.feature_importances_"
      ],
      "execution_count": null,
      "outputs": [
        {
          "output_type": "execute_result",
          "data": {
            "text/plain": [
              "array([0.00224265, 0.63256892, 0.17399683, 0.06279526, 0.02062544,\n",
              "       0.10502161, 0.00274929])"
            ]
          },
          "metadata": {
            "tags": []
          },
          "execution_count": 134
        }
      ]
    },
    {
      "cell_type": "code",
      "metadata": {
        "colab": {
          "base_uri": "https://localhost:8080/"
        },
        "id": "jT1DjO7gnYGc",
        "outputId": "4bda9245-095a-4555-cc19-6cbfc39155dd"
      },
      "source": [
        "X.columns\n",
        "# found that displacement & horsepower are the 2 most important features"
      ],
      "execution_count": null,
      "outputs": [
        {
          "output_type": "execute_result",
          "data": {
            "text/plain": [
              "Index(['cylinders', 'displacement', 'horsepower', 'weight', 'acceleration',\n",
              "       'model_year', 'origin'],\n",
              "      dtype='object')"
            ]
          },
          "metadata": {
            "tags": []
          },
          "execution_count": 135
        }
      ]
    },
    {
      "cell_type": "code",
      "metadata": {
        "colab": {
          "base_uri": "https://localhost:8080/",
          "height": 254
        },
        "id": "aPQeVscj12Lk",
        "outputId": "4596949f-149a-4142-ebf6-1f0102e76c55"
      },
      "source": [
        "features = zip(X.columns,modelDTR.feature_importances_)\n",
        "df_features = pd.DataFrame(list(features))\n",
        "df_features.columns = ['Feature', 'Importance']\n",
        "df_features"
      ],
      "execution_count": null,
      "outputs": [
        {
          "output_type": "execute_result",
          "data": {
            "text/html": [
              "<div>\n",
              "<style scoped>\n",
              "    .dataframe tbody tr th:only-of-type {\n",
              "        vertical-align: middle;\n",
              "    }\n",
              "\n",
              "    .dataframe tbody tr th {\n",
              "        vertical-align: top;\n",
              "    }\n",
              "\n",
              "    .dataframe thead th {\n",
              "        text-align: right;\n",
              "    }\n",
              "</style>\n",
              "<table border=\"1\" class=\"dataframe\">\n",
              "  <thead>\n",
              "    <tr style=\"text-align: right;\">\n",
              "      <th></th>\n",
              "      <th>Feature</th>\n",
              "      <th>Importance</th>\n",
              "    </tr>\n",
              "  </thead>\n",
              "  <tbody>\n",
              "    <tr>\n",
              "      <th>0</th>\n",
              "      <td>cylinders</td>\n",
              "      <td>0.000632</td>\n",
              "    </tr>\n",
              "    <tr>\n",
              "      <th>1</th>\n",
              "      <td>displacement</td>\n",
              "      <td>0.633915</td>\n",
              "    </tr>\n",
              "    <tr>\n",
              "      <th>2</th>\n",
              "      <td>horsepower</td>\n",
              "      <td>0.174698</td>\n",
              "    </tr>\n",
              "    <tr>\n",
              "      <th>3</th>\n",
              "      <td>weight</td>\n",
              "      <td>0.061703</td>\n",
              "    </tr>\n",
              "    <tr>\n",
              "      <th>4</th>\n",
              "      <td>acceleration</td>\n",
              "      <td>0.020998</td>\n",
              "    </tr>\n",
              "    <tr>\n",
              "      <th>5</th>\n",
              "      <td>model_year</td>\n",
              "      <td>0.103779</td>\n",
              "    </tr>\n",
              "    <tr>\n",
              "      <th>6</th>\n",
              "      <td>origin</td>\n",
              "      <td>0.004275</td>\n",
              "    </tr>\n",
              "  </tbody>\n",
              "</table>\n",
              "</div>"
            ],
            "text/plain": [
              "        Feature  Importance\n",
              "0     cylinders    0.000632\n",
              "1  displacement    0.633915\n",
              "2    horsepower    0.174698\n",
              "3        weight    0.061703\n",
              "4  acceleration    0.020998\n",
              "5    model_year    0.103779\n",
              "6        origin    0.004275"
            ]
          },
          "metadata": {
            "tags": []
          },
          "execution_count": 11
        }
      ]
    },
    {
      "cell_type": "code",
      "metadata": {
        "id": "HDnykI_M65hZ",
        "colab": {
          "base_uri": "https://localhost:8080/",
          "height": 390
        },
        "outputId": "046c8b41-077b-4eb0-bab0-2c4c908e172f"
      },
      "source": [
        "# Plot the results\n",
        "# Use column names as feature names and a max_depth of only 2\n",
        "# INSERT CODE HERE\n",
        "from sklearn.tree import plot_tree\n",
        "import matplotlib.pyplot as plt\n",
        "\n",
        "plt.figure(figsize = (20,6))\n",
        "plot_tree(modelDTR, filled = True,\n",
        "          max_depth = 2,  \n",
        "          class_names = modelDTR.classes_, \n",
        "          feature_names=X_train.columns )\n",
        "plt.show()"
      ],
      "execution_count": null,
      "outputs": [
        {
          "output_type": "stream",
          "text": [
            "/usr/local/lib/python3.7/dist-packages/sklearn/tree/_classes.py:1233: FutureWarning: the classes_ attribute is to be deprecated from version 0.22 and will be removed in 0.24.\n",
            "  warnings.warn(msg, FutureWarning)\n"
          ],
          "name": "stderr"
        },
        {
          "output_type": "display_data",
          "data": {
            "image/png": "[encoded data removed]",
            "text/plain": [
              "<Figure size 1440x432 with 1 Axes>"
            ]
          },
          "metadata": {
            "tags": [],
            "needs_background": "light"
          }
        }
      ]
    },
    {
      "cell_type": "markdown",
      "metadata": {
        "id": "RGU1DS3h-OKm"
      },
      "source": [
        "## Classification Trees"
      ]
    },
    {
      "cell_type": "code",
      "metadata": {
        "id": "Z0aZESh28zlI"
      },
      "source": [
        "# Load in the Penguins dataset\n",
        "data2 = sns.load_dataset('penguins')\n",
        "\n",
        "# Drop rows with missing values\n",
        "# Turn the species column into numeric\n",
        "# Specifically, Adelie = 0, Chinstrap = 1, and Gentoo = 2\n",
        "\n",
        "# Turn the island column into numeric\n",
        "# Specifically, Torgersen = 0, Biscoe = 1, Dream = 2\n",
        "\n",
        "# INSERT CODE HERE\n",
        "#data2.isnull().sum()\n",
        "data.isna().sum()\n",
        "# drop rows with missing values\n",
        "df2 = data2.dropna()\n",
        "\n",
        "#df2['species'] = df2['species'].factorize()[0]\n",
        "df2['species'] = df2['species'].replace({'Adelie': 0, 'Chinstrap': 1, 'Gentoo': 2})\n",
        "#df2['island'] = df2['island'].factorize()[0]\n",
        "df2['island'] = df2['island'].replace({'Torgersen': 0, 'Biscoe': 1, 'Dream': 2})"
      ],
      "execution_count": null,
      "outputs": []
    },
    {
      "cell_type": "code",
      "metadata": {
        "id": "M4S4vACwrBKa",
        "colab": {
          "base_uri": "https://localhost:8080/",
          "height": 402
        },
        "outputId": "2ec64047-7973-4e24-8dd5-bb074537a707"
      },
      "source": [
        "df2"
      ],
      "execution_count": null,
      "outputs": [
        {
          "output_type": "execute_result",
          "data": {
            "text/html": [
              "<div>\n",
              "<style scoped>\n",
              "    .dataframe tbody tr th:only-of-type {\n",
              "        vertical-align: middle;\n",
              "    }\n",
              "\n",
              "    .dataframe tbody tr th {\n",
              "        vertical-align: top;\n",
              "    }\n",
              "\n",
              "    .dataframe thead th {\n",
              "        text-align: right;\n",
              "    }\n",
              "</style>\n",
              "<table border=\"1\" class=\"dataframe\">\n",
              "  <thead>\n",
              "    <tr style=\"text-align: right;\">\n",
              "      <th></th>\n",
              "      <th>species</th>\n",
              "      <th>island</th>\n",
              "      <th>bill_length_mm</th>\n",
              "      <th>bill_depth_mm</th>\n",
              "      <th>flipper_length_mm</th>\n",
              "      <th>body_mass_g</th>\n",
              "      <th>sex</th>\n",
              "    </tr>\n",
              "  </thead>\n",
              "  <tbody>\n",
              "    <tr>\n",
              "      <th>0</th>\n",
              "      <td>0</td>\n",
              "      <td>0</td>\n",
              "      <td>39.1</td>\n",
              "      <td>18.7</td>\n",
              "      <td>181.0</td>\n",
              "      <td>3750.0</td>\n",
              "      <td>Male</td>\n",
              "    </tr>\n",
              "    <tr>\n",
              "      <th>1</th>\n",
              "      <td>0</td>\n",
              "      <td>0</td>\n",
              "      <td>39.5</td>\n",
              "      <td>17.4</td>\n",
              "      <td>186.0</td>\n",
              "      <td>3800.0</td>\n",
              "      <td>Female</td>\n",
              "    </tr>\n",
              "    <tr>\n",
              "      <th>2</th>\n",
              "      <td>0</td>\n",
              "      <td>0</td>\n",
              "      <td>40.3</td>\n",
              "      <td>18.0</td>\n",
              "      <td>195.0</td>\n",
              "      <td>3250.0</td>\n",
              "      <td>Female</td>\n",
              "    </tr>\n",
              "    <tr>\n",
              "      <th>4</th>\n",
              "      <td>0</td>\n",
              "      <td>0</td>\n",
              "      <td>36.7</td>\n",
              "      <td>19.3</td>\n",
              "      <td>193.0</td>\n",
              "      <td>3450.0</td>\n",
              "      <td>Female</td>\n",
              "    </tr>\n",
              "    <tr>\n",
              "      <th>5</th>\n",
              "      <td>0</td>\n",
              "      <td>0</td>\n",
              "      <td>39.3</td>\n",
              "      <td>20.6</td>\n",
              "      <td>190.0</td>\n",
              "      <td>3650.0</td>\n",
              "      <td>Male</td>\n",
              "    </tr>\n",
              "    <tr>\n",
              "      <th>...</th>\n",
              "      <td>...</td>\n",
              "      <td>...</td>\n",
              "      <td>...</td>\n",
              "      <td>...</td>\n",
              "      <td>...</td>\n",
              "      <td>...</td>\n",
              "      <td>...</td>\n",
              "    </tr>\n",
              "    <tr>\n",
              "      <th>338</th>\n",
              "      <td>2</td>\n",
              "      <td>1</td>\n",
              "      <td>47.2</td>\n",
              "      <td>13.7</td>\n",
              "      <td>214.0</td>\n",
              "      <td>4925.0</td>\n",
              "      <td>Female</td>\n",
              "    </tr>\n",
              "    <tr>\n",
              "      <th>340</th>\n",
              "      <td>2</td>\n",
              "      <td>1</td>\n",
              "      <td>46.8</td>\n",
              "      <td>14.3</td>\n",
              "      <td>215.0</td>\n",
              "      <td>4850.0</td>\n",
              "      <td>Female</td>\n",
              "    </tr>\n",
              "    <tr>\n",
              "      <th>341</th>\n",
              "      <td>2</td>\n",
              "      <td>1</td>\n",
              "      <td>50.4</td>\n",
              "      <td>15.7</td>\n",
              "      <td>222.0</td>\n",
              "      <td>5750.0</td>\n",
              "      <td>Male</td>\n",
              "    </tr>\n",
              "    <tr>\n",
              "      <th>342</th>\n",
              "      <td>2</td>\n",
              "      <td>1</td>\n",
              "      <td>45.2</td>\n",
              "      <td>14.8</td>\n",
              "      <td>212.0</td>\n",
              "      <td>5200.0</td>\n",
              "      <td>Female</td>\n",
              "    </tr>\n",
              "    <tr>\n",
              "      <th>343</th>\n",
              "      <td>2</td>\n",
              "      <td>1</td>\n",
              "      <td>49.9</td>\n",
              "      <td>16.1</td>\n",
              "      <td>213.0</td>\n",
              "      <td>5400.0</td>\n",
              "      <td>Male</td>\n",
              "    </tr>\n",
              "  </tbody>\n",
              "</table>\n",
              "<p>333 rows × 7 columns</p>\n",
              "</div>"
            ],
            "text/plain": [
              "     species  island  bill_length_mm  ...  flipper_length_mm  body_mass_g     sex\n",
              "0          0       0            39.1  ...              181.0       3750.0    Male\n",
              "1          0       0            39.5  ...              186.0       3800.0  Female\n",
              "2          0       0            40.3  ...              195.0       3250.0  Female\n",
              "4          0       0            36.7  ...              193.0       3450.0  Female\n",
              "5          0       0            39.3  ...              190.0       3650.0    Male\n",
              "..       ...     ...             ...  ...                ...          ...     ...\n",
              "338        2       1            47.2  ...              214.0       4925.0  Female\n",
              "340        2       1            46.8  ...              215.0       4850.0  Female\n",
              "341        2       1            50.4  ...              222.0       5750.0    Male\n",
              "342        2       1            45.2  ...              212.0       5200.0  Female\n",
              "343        2       1            49.9  ...              213.0       5400.0    Male\n",
              "\n",
              "[333 rows x 7 columns]"
            ]
          },
          "metadata": {
            "tags": []
          },
          "execution_count": 14
        }
      ]
    },
    {
      "cell_type": "code",
      "metadata": {
        "colab": {
          "base_uri": "https://localhost:8080/"
        },
        "id": "c5aOgqzAqKBf",
        "outputId": "0a73e47f-602c-4f12-b8b5-0d3dd4571683"
      },
      "source": [
        "data2.shape\n",
        "df2['island'].value_counts()\n",
        "#data2['island'].value_counts()"
      ],
      "execution_count": null,
      "outputs": [
        {
          "output_type": "execute_result",
          "data": {
            "text/plain": [
              "1    163\n",
              "2    123\n",
              "0     47\n",
              "Name: island, dtype: int64"
            ]
          },
          "metadata": {
            "tags": []
          },
          "execution_count": 77
        }
      ]
    },
    {
      "cell_type": "code",
      "metadata": {
        "id": "aWLsB2cu-i-F",
        "colab": {
          "base_uri": "https://localhost:8080/"
        },
        "outputId": "a422287f-f684-4a08-fa6d-d7d083b8dc4f"
      },
      "source": [
        "# Using a random state of 42 and a test size of 0.20, as well as \"sex\" as the output, split in training and testing sets\n",
        "# INSERT CODE HERE\n",
        "# calculate X & Y\n",
        "X2 = df2.drop(['sex'], axis =1)\n",
        "y2 = df2['sex']\n",
        "# convert y as values 0 or 1\n",
        "y2 = df2['sex'].apply(lambda x: 0 if x == 'Female' else 1)\n",
        "y2.value_counts()\n"
      ],
      "execution_count": null,
      "outputs": [
        {
          "output_type": "execute_result",
          "data": {
            "text/plain": [
              "1    168\n",
              "0    165\n",
              "Name: sex, dtype: int64"
            ]
          },
          "metadata": {
            "tags": []
          },
          "execution_count": 15
        }
      ]
    },
    {
      "cell_type": "code",
      "metadata": {
        "id": "S_HgvT5hsc0N"
      },
      "source": [
        "# Split data rand 42, test size 20%\n",
        "\n",
        "X_train2, X_test2, y_train2, y_test2 = train_test_split(X2, y2, test_size=0.2, random_state=42)"
      ],
      "execution_count": null,
      "outputs": []
    },
    {
      "cell_type": "code",
      "metadata": {
        "id": "YmGmYzoP-pQa",
        "colab": {
          "base_uri": "https://localhost:8080/"
        },
        "outputId": "b2111348-d946-49cf-ea94-c11cad07d6b7"
      },
      "source": [
        "# Using a random state of 42, fit the classification tree.\n",
        "# INSERT CODE HERE\n",
        "from sklearn.tree import DecisionTreeClassifier\n",
        "modelDTC = DecisionTreeClassifier()\n",
        "modelDTC.fit(X_train2, y_train2)"
      ],
      "execution_count": null,
      "outputs": [
        {
          "output_type": "execute_result",
          "data": {
            "text/plain": [
              "DecisionTreeClassifier(ccp_alpha=0.0, class_weight=None, criterion='gini',\n",
              "                       max_depth=None, max_features=None, max_leaf_nodes=None,\n",
              "                       min_impurity_decrease=0.0, min_impurity_split=None,\n",
              "                       min_samples_leaf=1, min_samples_split=2,\n",
              "                       min_weight_fraction_leaf=0.0, presort='deprecated',\n",
              "                       random_state=None, splitter='best')"
            ]
          },
          "metadata": {
            "tags": []
          },
          "execution_count": 18
        }
      ]
    },
    {
      "cell_type": "code",
      "metadata": {
        "id": "uXSdrpxN-3vL",
        "colab": {
          "base_uri": "https://localhost:8080/"
        },
        "outputId": "df743e56-ed74-45af-c81b-2b392a586048"
      },
      "source": [
        "# Print the predictions on the test set\n",
        "# INSERT CODE HERE\n",
        "y_predict2 = modelDTC.predict(X_test2)\n",
        "y_predict2"
      ],
      "execution_count": null,
      "outputs": [
        {
          "output_type": "execute_result",
          "data": {
            "text/plain": [
              "array([0, 0, 1, 1, 1, 0, 1, 1, 1, 1, 1, 0, 0, 0, 0, 0, 0, 0, 1, 0, 1, 0,\n",
              "       1, 1, 0, 0, 0, 0, 0, 1, 0, 1, 1, 0, 1, 0, 1, 0, 0, 0, 0, 0, 0, 1,\n",
              "       0, 0, 1, 1, 1, 0, 0, 1, 0, 0, 1, 1, 0, 1, 1, 1, 1, 1, 0, 0, 0, 1,\n",
              "       0])"
            ]
          },
          "metadata": {
            "tags": []
          },
          "execution_count": 19
        }
      ]
    },
    {
      "cell_type": "code",
      "metadata": {
        "id": "atjtKZc2--lb",
        "colab": {
          "base_uri": "https://localhost:8080/"
        },
        "outputId": "ec2d952d-2c8b-4075-cfb5-d78df794cd6c"
      },
      "source": [
        "# Print the accuracy score for the predictions\n",
        "# INSERT CODE HERE\n",
        "# print accuracy score\n",
        "print(\"accuracy score on train set:\",modelDTC.score(X_train2, y_train2))\n",
        "print(\"accuracy score on test set:\",modelDTC.score(X_test2, y_test2))\n",
        "print(\"R2 score on test set :\", r2_score(y_test2, y_predict2))"
      ],
      "execution_count": null,
      "outputs": [
        {
          "output_type": "stream",
          "text": [
            "accuracy score on train set: 1.0\n",
            "accuracy score on test set: 0.8507462686567164\n",
            "R2 score on test set : 0.39639639639639646\n"
          ],
          "name": "stdout"
        }
      ]
    },
    {
      "cell_type": "code",
      "metadata": {
        "id": "WSZkduulNPmS",
        "colab": {
          "base_uri": "https://localhost:8080/"
        },
        "outputId": "8c941800-382f-4934-9d9b-b55972f0de9c"
      },
      "source": [
        "# Print each feature with importance %\n",
        "# INSERT CODE HERE\n",
        "modelDTC.feature_importances_\n",
        "# best feature is \"bill_depth_mm\""
      ],
      "execution_count": null,
      "outputs": [
        {
          "output_type": "execute_result",
          "data": {
            "text/plain": [
              "array([0.        , 0.        , 0.0868705 , 0.48912683, 0.02603034,\n",
              "       0.39797233])"
            ]
          },
          "metadata": {
            "tags": []
          },
          "execution_count": 21
        }
      ]
    },
    {
      "cell_type": "code",
      "metadata": {
        "colab": {
          "base_uri": "https://localhost:8080/"
        },
        "id": "TftPP5G-tpqO",
        "outputId": "deadc0f7-f47b-4027-a534-0fa2b17e8f72"
      },
      "source": [
        "X_train2.columns"
      ],
      "execution_count": null,
      "outputs": [
        {
          "output_type": "execute_result",
          "data": {
            "text/plain": [
              "Index(['species', 'island', 'bill_length_mm', 'bill_depth_mm',\n",
              "       'flipper_length_mm', 'body_mass_g'],\n",
              "      dtype='object')"
            ]
          },
          "metadata": {
            "tags": []
          },
          "execution_count": 106
        }
      ]
    },
    {
      "cell_type": "code",
      "metadata": {
        "colab": {
          "base_uri": "https://localhost:8080/",
          "height": 225
        },
        "id": "3iPFBtcJ2oh3",
        "outputId": "5d6901de-8302-4226-95e2-25cc43be0d68"
      },
      "source": [
        "features2 = zip(X2.columns,modelDTC.feature_importances_)\n",
        "df_features2 = pd.DataFrame(list(features2))\n",
        "df_features2.columns = ['Feature', 'Importance']\n",
        "df_features2"
      ],
      "execution_count": null,
      "outputs": [
        {
          "output_type": "execute_result",
          "data": {
            "text/html": [
              "<div>\n",
              "<style scoped>\n",
              "    .dataframe tbody tr th:only-of-type {\n",
              "        vertical-align: middle;\n",
              "    }\n",
              "\n",
              "    .dataframe tbody tr th {\n",
              "        vertical-align: top;\n",
              "    }\n",
              "\n",
              "    .dataframe thead th {\n",
              "        text-align: right;\n",
              "    }\n",
              "</style>\n",
              "<table border=\"1\" class=\"dataframe\">\n",
              "  <thead>\n",
              "    <tr style=\"text-align: right;\">\n",
              "      <th></th>\n",
              "      <th>Feature</th>\n",
              "      <th>Importance</th>\n",
              "    </tr>\n",
              "  </thead>\n",
              "  <tbody>\n",
              "    <tr>\n",
              "      <th>0</th>\n",
              "      <td>species</td>\n",
              "      <td>0.000000</td>\n",
              "    </tr>\n",
              "    <tr>\n",
              "      <th>1</th>\n",
              "      <td>island</td>\n",
              "      <td>0.000000</td>\n",
              "    </tr>\n",
              "    <tr>\n",
              "      <th>2</th>\n",
              "      <td>bill_length_mm</td>\n",
              "      <td>0.086870</td>\n",
              "    </tr>\n",
              "    <tr>\n",
              "      <th>3</th>\n",
              "      <td>bill_depth_mm</td>\n",
              "      <td>0.489127</td>\n",
              "    </tr>\n",
              "    <tr>\n",
              "      <th>4</th>\n",
              "      <td>flipper_length_mm</td>\n",
              "      <td>0.026030</td>\n",
              "    </tr>\n",
              "    <tr>\n",
              "      <th>5</th>\n",
              "      <td>body_mass_g</td>\n",
              "      <td>0.397972</td>\n",
              "    </tr>\n",
              "  </tbody>\n",
              "</table>\n",
              "</div>"
            ],
            "text/plain": [
              "             Feature  Importance\n",
              "0            species    0.000000\n",
              "1             island    0.000000\n",
              "2     bill_length_mm    0.086870\n",
              "3      bill_depth_mm    0.489127\n",
              "4  flipper_length_mm    0.026030\n",
              "5        body_mass_g    0.397972"
            ]
          },
          "metadata": {
            "tags": []
          },
          "execution_count": 22
        }
      ]
    },
    {
      "cell_type": "code",
      "metadata": {
        "id": "joRDKtn-_ENF"
      },
      "source": [
        "# Plot the results\n",
        "# Use column names as feature names and a max_depth of only 2\n",
        "# INSERT CODE HERE\n",
        "from sklearn.tree import plot_tree\n",
        "import matplotlib.pyplot as plt\n",
        "\n",
        "plt.figure(figsize = (10,10))\n",
        "plot_tree(modelDTC, filled = True,\n",
        "          max_depth = 2,  \n",
        "          class_names = modelDTC.classes_, \n",
        "          feature_names=X_train2.columns )\n",
        "plt.show()"
      ],
      "execution_count": null,
      "outputs": []
    },
    {
      "cell_type": "markdown",
      "metadata": {
        "id": "-MwQJOzMBOZq"
      },
      "source": [
        "# Effects of Changing the Maximum Depth\n",
        "In this section, we're going to see how changing the max_depth, which is one of the most important hyperparameters when it comes to decision trees, plays a part in the prediction accuracy.\n",
        "\n",
        "*** This exercise is only done for you to see how big of an impact choosing the correct max_depth is!*** Choosing the correct max_depth (or any other hyperparameter for that matter) is typically done using cross validation or a more advanced technique (Grid Search, Random Search, Bayesian Optimization).\n"
      ]
    },
    {
      "cell_type": "markdown",
      "metadata": {
        "id": "LyOwrYUuCLnX"
      },
      "source": [
        "Using the above dataset, fit and predict the train and test sets using a max_depth from 1 to 10. For example, within the first iteration, you would fit the xtrain and ytrain datasets using max_depth=1, predict the xtest using this model, and then record the accuracy. On the next iteration, the max_depth would then be 2, etc."
      ]
    },
    {
      "cell_type": "code",
      "metadata": {
        "id": "aTMJDwLJB9rS",
        "colab": {
          "base_uri": "https://localhost:8080/"
        },
        "outputId": "c06d85f4-56e2-4974-c5b5-b8737009915f"
      },
      "source": [
        "# Using a random state of 42, fit multiple decision trees with various max depths.\n",
        "# Record these accuracies in a list (i.e. list_of_accuracies.append(accuracy))\n",
        "list_of_accuracies = []\n",
        "max_depth = []\n",
        "for i in range(1, 11):\n",
        "  # INSERT CODE HERE\n",
        "  modelDTC2 = DecisionTreeClassifier(max_depth = i)\n",
        "  modelDTC2.fit(X_train2, y_train2)\n",
        "  accuracy = modelDTC2.score(X_test2, y_test2)\n",
        "  list_of_accuracies.append(accuracy)\n",
        "  max_depth.append(i)\n",
        "\n",
        "list_of_accuracies"
      ],
      "execution_count": null,
      "outputs": [
        {
          "output_type": "execute_result",
          "data": {
            "text/plain": [
              "[0.7014925373134329,\n",
              " 0.8208955223880597,\n",
              " 0.835820895522388,\n",
              " 0.8507462686567164,\n",
              " 0.8507462686567164,\n",
              " 0.8507462686567164,\n",
              " 0.835820895522388,\n",
              " 0.8805970149253731,\n",
              " 0.8656716417910447,\n",
              " 0.8507462686567164]"
            ]
          },
          "metadata": {
            "tags": []
          },
          "execution_count": 115
        }
      ]
    },
    {
      "cell_type": "code",
      "metadata": {
        "id": "pVMDMl9fC5ZO",
        "colab": {
          "base_uri": "https://localhost:8080/",
          "height": 405
        },
        "outputId": "b0998f41-e73a-4ae9-9140-ed22fa1e2d72"
      },
      "source": [
        "# Plot these accuracies using matplotlib with the accuracies on the y-axis and the max_depth on the x-axis.\n",
        "# INSERT CODE HERE\n",
        "\n",
        "import matplotlib.pyplot as plt\n",
        "fig, ax = plt.subplots(figsize=(10, 6))\n",
        "\n",
        "# Define x and y axes\n",
        "ax.plot(max_depth, \n",
        "        list_of_accuracies,\n",
        "        marker = 'o')\n",
        "\n",
        "ax.set(title = \"Accuracies per depth\",\n",
        "       xlabel = \"max_depth\",\n",
        "       ylabel = \"Accuracy\")\n",
        "\n",
        "plt.show()"
      ],
      "execution_count": null,
      "outputs": [
        {
          "output_type": "display_data",
          "data": {
            "image/png": "[encoded data removed]",
            "text/plain": [
              "<Figure size 720x432 with 1 Axes>"
            ]
          },
          "metadata": {
            "tags": [],
            "needs_background": "light"
          }
        }
      ]
    },
    {
      "cell_type": "code",
      "metadata": {
        "id": "sFWzCkl8IaFN"
      },
      "source": [
        ""
      ],
      "execution_count": null,
      "outputs": []
    }
  ]
}